{
 "cells": [
  {
   "cell_type": "markdown",
   "id": "c8ceb534",
   "metadata": {},
   "source": [
    "# Import Packages"
   ]
  },
  {
   "cell_type": "code",
   "execution_count": 1,
   "id": "41eb706f",
   "metadata": {},
   "outputs": [],
   "source": [
    "import pandas as pd\n",
    "import kaggle\n",
    "import opendatasets as od\n",
    "import plotly.express as px\n",
    "from jupyter_dash import JupyterDash\n",
    "from dash import dcc\n",
    "from dash import html\n",
    "from dash.dependencies import Input, Output\n",
    "import dash_bootstrap_components as dbc"
   ]
  },
  {
   "cell_type": "code",
   "execution_count": 2,
   "id": "9290585c",
   "metadata": {},
   "outputs": [
    {
     "data": {
      "text/html": [
       "<style>.container { width:100% !important; }</style>"
      ],
      "text/plain": [
       "<IPython.core.display.HTML object>"
      ]
     },
     "metadata": {},
     "output_type": "display_data"
    }
   ],
   "source": [
    "from IPython.display import display, HTML\n",
    "display(HTML(\"<style>.container { width:100% !important; }</style>\"))"
   ]
  },
  {
   "cell_type": "markdown",
   "id": "6fc6cea4",
   "metadata": {},
   "source": [
    "# Import Data\n",
    "\n",
    "Vamos a importar un Dataset de FIFA 2021"
   ]
  },
  {
   "cell_type": "code",
   "execution_count": 3,
   "id": "49e407ab",
   "metadata": {},
   "outputs": [
    {
     "name": "stdout",
     "output_type": "stream",
     "text": [
      "Please provide your Kaggle credentials to download this dataset. Learn more: http://bit.ly/kaggle-creds\n",
      "Your Kaggle username: juanvecino\n",
      "Your Kaggle Key: ········\n"
     ]
    },
    {
     "name": "stderr",
     "output_type": "stream",
     "text": [
      " 69%|██████▉   | 1.00M/1.45M [00:00<00:00, 5.62MB/s]"
     ]
    },
    {
     "name": "stdout",
     "output_type": "stream",
     "text": [
      "Downloading fifa-data-for-eda-and-stats.zip to ./fifa-data-for-eda-and-stats\n"
     ]
    },
    {
     "name": "stderr",
     "output_type": "stream",
     "text": [
      "\r\n",
      "100%|██████████| 1.45M/1.45M [00:00<00:00, 6.04MB/s]"
     ]
    },
    {
     "name": "stdout",
     "output_type": "stream",
     "text": [
      "\n"
     ]
    },
    {
     "name": "stderr",
     "output_type": "stream",
     "text": [
      "\n"
     ]
    }
   ],
   "source": [
    "od.download(\"https://www.kaggle.com/datasets/mukeshmanral/fifa-data-for-eda-and-stats\")"
   ]
  },
  {
   "cell_type": "code",
   "execution_count": null,
   "id": "bfc105e8",
   "metadata": {},
   "outputs": [],
   "source": [
    "!git clone https://github.com/ \"Path of the repository\"/kaggle.git"
   ]
  },
  {
   "cell_type": "markdown",
   "id": "bf069741",
   "metadata": {},
   "source": [
    "### Opcion Online\n",
    "\n",
    "    - Se ha escogido hacer uso de un repositorio online"
   ]
  },
  {
   "cell_type": "code",
   "execution_count": 364,
   "id": "68be5ecd",
   "metadata": {},
   "outputs": [],
   "source": [
    "df = pd.read_csv(\"https://raw.githubusercontent.com/juanvecino/Visualization_Python_FIFA/main/Data/fifa_eda_stats.csv\")\n",
    "df_urls = pd.read_csv(\"https://raw.githubusercontent.com/juanvecino/Visualization_Python_FIFA/main/Data/FIFA23_official_data.csv\")\n",
    "df_urls.replace(to_replace=\"Real Madrid CF\", value=\"Real Madrid\",inplace=True)\n",
    "df_urls = df_urls[[\"Name\",\"Photo\",\"Nationality\",\"Flag\",\"Club\",\"Club Logo\"]]"
   ]
  },
  {
   "cell_type": "markdown",
   "id": "1c66037c",
   "metadata": {},
   "source": [
    "### Opcion Local\n",
    "    - Este caso es más sencillo porque esta sacado de los ficheros"
   ]
  },
  {
   "cell_type": "code",
   "execution_count": 3,
   "id": "5ffaa425",
   "metadata": {},
   "outputs": [],
   "source": [
    "df = pd.read_csv(\"./fifa-data-for-eda-and-stats/fifa_eda_stats.csv\")\n",
    "df_urls = pd.read_csv(\"./FIFA23_official_data.csv\")\n",
    "df_urls.replace(to_replace=\"Real Madrid CF\", value=\"Real Madrid\",inplace=True)\n",
    "df_urls = df_urls[[\"Name\",\"Photo\",\"Nationality\",\"Flag\",\"Club\",\"Club Logo\"]]"
   ]
  },
  {
   "cell_type": "code",
   "execution_count": 4,
   "id": "4500cfb2",
   "metadata": {},
   "outputs": [
    {
     "data": {
      "text/html": [
       "<div>\n",
       "<style scoped>\n",
       "    .dataframe tbody tr th:only-of-type {\n",
       "        vertical-align: middle;\n",
       "    }\n",
       "\n",
       "    .dataframe tbody tr th {\n",
       "        vertical-align: top;\n",
       "    }\n",
       "\n",
       "    .dataframe thead th {\n",
       "        text-align: right;\n",
       "    }\n",
       "</style>\n",
       "<table border=\"1\" class=\"dataframe\">\n",
       "  <thead>\n",
       "    <tr style=\"text-align: right;\">\n",
       "      <th></th>\n",
       "      <th>Name</th>\n",
       "      <th>Photo</th>\n",
       "      <th>Nationality</th>\n",
       "      <th>Flag</th>\n",
       "      <th>Club</th>\n",
       "      <th>Club Logo</th>\n",
       "    </tr>\n",
       "  </thead>\n",
       "  <tbody>\n",
       "    <tr>\n",
       "      <th>0</th>\n",
       "      <td>L. Goretzka</td>\n",
       "      <td>https://cdn.sofifa.net/players/209/658/23_60.png</td>\n",
       "      <td>Germany</td>\n",
       "      <td>https://cdn.sofifa.net/flags/de.png</td>\n",
       "      <td>FC Bayern München</td>\n",
       "      <td>https://cdn.sofifa.net/teams/21/30.png</td>\n",
       "    </tr>\n",
       "    <tr>\n",
       "      <th>1</th>\n",
       "      <td>Bruno Fernandes</td>\n",
       "      <td>https://cdn.sofifa.net/players/212/198/23_60.png</td>\n",
       "      <td>Portugal</td>\n",
       "      <td>https://cdn.sofifa.net/flags/pt.png</td>\n",
       "      <td>Manchester United</td>\n",
       "      <td>https://cdn.sofifa.net/teams/11/30.png</td>\n",
       "    </tr>\n",
       "    <tr>\n",
       "      <th>2</th>\n",
       "      <td>M. Acuña</td>\n",
       "      <td>https://cdn.sofifa.net/players/224/334/23_60.png</td>\n",
       "      <td>Argentina</td>\n",
       "      <td>https://cdn.sofifa.net/flags/ar.png</td>\n",
       "      <td>Sevilla FC</td>\n",
       "      <td>https://cdn.sofifa.net/teams/481/30.png</td>\n",
       "    </tr>\n",
       "    <tr>\n",
       "      <th>3</th>\n",
       "      <td>K. De Bruyne</td>\n",
       "      <td>https://cdn.sofifa.net/players/192/985/23_60.png</td>\n",
       "      <td>Belgium</td>\n",
       "      <td>https://cdn.sofifa.net/flags/be.png</td>\n",
       "      <td>Manchester City</td>\n",
       "      <td>https://cdn.sofifa.net/teams/10/30.png</td>\n",
       "    </tr>\n",
       "    <tr>\n",
       "      <th>4</th>\n",
       "      <td>N. Barella</td>\n",
       "      <td>https://cdn.sofifa.net/players/224/232/23_60.png</td>\n",
       "      <td>Italy</td>\n",
       "      <td>https://cdn.sofifa.net/flags/it.png</td>\n",
       "      <td>Inter</td>\n",
       "      <td>https://cdn.sofifa.net/teams/44/30.png</td>\n",
       "    </tr>\n",
       "  </tbody>\n",
       "</table>\n",
       "</div>"
      ],
      "text/plain": [
       "              Name                                             Photo  \\\n",
       "0      L. Goretzka  https://cdn.sofifa.net/players/209/658/23_60.png   \n",
       "1  Bruno Fernandes  https://cdn.sofifa.net/players/212/198/23_60.png   \n",
       "2         M. Acuña  https://cdn.sofifa.net/players/224/334/23_60.png   \n",
       "3     K. De Bruyne  https://cdn.sofifa.net/players/192/985/23_60.png   \n",
       "4       N. Barella  https://cdn.sofifa.net/players/224/232/23_60.png   \n",
       "\n",
       "  Nationality                                 Flag               Club  \\\n",
       "0     Germany  https://cdn.sofifa.net/flags/de.png  FC Bayern München   \n",
       "1    Portugal  https://cdn.sofifa.net/flags/pt.png  Manchester United   \n",
       "2   Argentina  https://cdn.sofifa.net/flags/ar.png         Sevilla FC   \n",
       "3     Belgium  https://cdn.sofifa.net/flags/be.png    Manchester City   \n",
       "4       Italy  https://cdn.sofifa.net/flags/it.png              Inter   \n",
       "\n",
       "                                 Club Logo  \n",
       "0   https://cdn.sofifa.net/teams/21/30.png  \n",
       "1   https://cdn.sofifa.net/teams/11/30.png  \n",
       "2  https://cdn.sofifa.net/teams/481/30.png  \n",
       "3   https://cdn.sofifa.net/teams/10/30.png  \n",
       "4   https://cdn.sofifa.net/teams/44/30.png  "
      ]
     },
     "execution_count": 4,
     "metadata": {},
     "output_type": "execute_result"
    }
   ],
   "source": [
    "df_urls.head()"
   ]
  },
  {
   "cell_type": "code",
   "execution_count": 5,
   "id": "00ac794b",
   "metadata": {},
   "outputs": [
    {
     "data": {
      "text/html": [
       "<div>\n",
       "<style scoped>\n",
       "    .dataframe tbody tr th:only-of-type {\n",
       "        vertical-align: middle;\n",
       "    }\n",
       "\n",
       "    .dataframe tbody tr th {\n",
       "        vertical-align: top;\n",
       "    }\n",
       "\n",
       "    .dataframe thead th {\n",
       "        text-align: right;\n",
       "    }\n",
       "</style>\n",
       "<table border=\"1\" class=\"dataframe\">\n",
       "  <thead>\n",
       "    <tr style=\"text-align: right;\">\n",
       "      <th></th>\n",
       "      <th>ID</th>\n",
       "      <th>Name</th>\n",
       "      <th>Age</th>\n",
       "      <th>Nationality</th>\n",
       "      <th>Overall</th>\n",
       "      <th>Potential</th>\n",
       "      <th>Club</th>\n",
       "      <th>Value</th>\n",
       "      <th>Wage</th>\n",
       "      <th>Preferred Foot</th>\n",
       "      <th>...</th>\n",
       "      <th>Composure</th>\n",
       "      <th>Marking</th>\n",
       "      <th>StandingTackle</th>\n",
       "      <th>SlidingTackle</th>\n",
       "      <th>GKDiving</th>\n",
       "      <th>GKHandling</th>\n",
       "      <th>GKKicking</th>\n",
       "      <th>GKPositioning</th>\n",
       "      <th>GKReflexes</th>\n",
       "      <th>Release Clause</th>\n",
       "    </tr>\n",
       "  </thead>\n",
       "  <tbody>\n",
       "    <tr>\n",
       "      <th>0</th>\n",
       "      <td>158023</td>\n",
       "      <td>L. Messi</td>\n",
       "      <td>31</td>\n",
       "      <td>Argentina</td>\n",
       "      <td>94</td>\n",
       "      <td>94</td>\n",
       "      <td>FC Barcelona</td>\n",
       "      <td>€110.5M</td>\n",
       "      <td>€565K</td>\n",
       "      <td>Left</td>\n",
       "      <td>...</td>\n",
       "      <td>96.0</td>\n",
       "      <td>33.0</td>\n",
       "      <td>28.0</td>\n",
       "      <td>26.0</td>\n",
       "      <td>6.0</td>\n",
       "      <td>11.0</td>\n",
       "      <td>15.0</td>\n",
       "      <td>14.0</td>\n",
       "      <td>8.0</td>\n",
       "      <td>€226.5M</td>\n",
       "    </tr>\n",
       "    <tr>\n",
       "      <th>1</th>\n",
       "      <td>20801</td>\n",
       "      <td>Cristiano Ronaldo</td>\n",
       "      <td>33</td>\n",
       "      <td>Portugal</td>\n",
       "      <td>94</td>\n",
       "      <td>94</td>\n",
       "      <td>Juventus</td>\n",
       "      <td>€77M</td>\n",
       "      <td>€405K</td>\n",
       "      <td>Right</td>\n",
       "      <td>...</td>\n",
       "      <td>95.0</td>\n",
       "      <td>28.0</td>\n",
       "      <td>31.0</td>\n",
       "      <td>23.0</td>\n",
       "      <td>7.0</td>\n",
       "      <td>11.0</td>\n",
       "      <td>15.0</td>\n",
       "      <td>14.0</td>\n",
       "      <td>11.0</td>\n",
       "      <td>€127.1M</td>\n",
       "    </tr>\n",
       "    <tr>\n",
       "      <th>2</th>\n",
       "      <td>190871</td>\n",
       "      <td>Neymar Jr</td>\n",
       "      <td>26</td>\n",
       "      <td>Brazil</td>\n",
       "      <td>92</td>\n",
       "      <td>93</td>\n",
       "      <td>Paris Saint-Germain</td>\n",
       "      <td>€118.5M</td>\n",
       "      <td>€290K</td>\n",
       "      <td>Right</td>\n",
       "      <td>...</td>\n",
       "      <td>94.0</td>\n",
       "      <td>27.0</td>\n",
       "      <td>24.0</td>\n",
       "      <td>33.0</td>\n",
       "      <td>9.0</td>\n",
       "      <td>9.0</td>\n",
       "      <td>15.0</td>\n",
       "      <td>15.0</td>\n",
       "      <td>11.0</td>\n",
       "      <td>€228.1M</td>\n",
       "    </tr>\n",
       "    <tr>\n",
       "      <th>3</th>\n",
       "      <td>193080</td>\n",
       "      <td>De Gea</td>\n",
       "      <td>27</td>\n",
       "      <td>Spain</td>\n",
       "      <td>91</td>\n",
       "      <td>93</td>\n",
       "      <td>Manchester United</td>\n",
       "      <td>€72M</td>\n",
       "      <td>€260K</td>\n",
       "      <td>Right</td>\n",
       "      <td>...</td>\n",
       "      <td>68.0</td>\n",
       "      <td>15.0</td>\n",
       "      <td>21.0</td>\n",
       "      <td>13.0</td>\n",
       "      <td>90.0</td>\n",
       "      <td>85.0</td>\n",
       "      <td>87.0</td>\n",
       "      <td>88.0</td>\n",
       "      <td>94.0</td>\n",
       "      <td>€138.6M</td>\n",
       "    </tr>\n",
       "    <tr>\n",
       "      <th>4</th>\n",
       "      <td>192985</td>\n",
       "      <td>K. De Bruyne</td>\n",
       "      <td>27</td>\n",
       "      <td>Belgium</td>\n",
       "      <td>91</td>\n",
       "      <td>92</td>\n",
       "      <td>Manchester City</td>\n",
       "      <td>€102M</td>\n",
       "      <td>€355K</td>\n",
       "      <td>Right</td>\n",
       "      <td>...</td>\n",
       "      <td>88.0</td>\n",
       "      <td>68.0</td>\n",
       "      <td>58.0</td>\n",
       "      <td>51.0</td>\n",
       "      <td>15.0</td>\n",
       "      <td>13.0</td>\n",
       "      <td>5.0</td>\n",
       "      <td>10.0</td>\n",
       "      <td>13.0</td>\n",
       "      <td>€196.4M</td>\n",
       "    </tr>\n",
       "  </tbody>\n",
       "</table>\n",
       "<p>5 rows × 57 columns</p>\n",
       "</div>"
      ],
      "text/plain": [
       "       ID               Name  Age Nationality  Overall  Potential  \\\n",
       "0  158023           L. Messi   31   Argentina       94         94   \n",
       "1   20801  Cristiano Ronaldo   33    Portugal       94         94   \n",
       "2  190871          Neymar Jr   26      Brazil       92         93   \n",
       "3  193080             De Gea   27       Spain       91         93   \n",
       "4  192985       K. De Bruyne   27     Belgium       91         92   \n",
       "\n",
       "                  Club    Value   Wage Preferred Foot  ...  Composure  \\\n",
       "0         FC Barcelona  €110.5M  €565K           Left  ...       96.0   \n",
       "1             Juventus     €77M  €405K          Right  ...       95.0   \n",
       "2  Paris Saint-Germain  €118.5M  €290K          Right  ...       94.0   \n",
       "3    Manchester United     €72M  €260K          Right  ...       68.0   \n",
       "4      Manchester City    €102M  €355K          Right  ...       88.0   \n",
       "\n",
       "   Marking  StandingTackle SlidingTackle GKDiving GKHandling  GKKicking  \\\n",
       "0     33.0            28.0          26.0      6.0       11.0       15.0   \n",
       "1     28.0            31.0          23.0      7.0       11.0       15.0   \n",
       "2     27.0            24.0          33.0      9.0        9.0       15.0   \n",
       "3     15.0            21.0          13.0     90.0       85.0       87.0   \n",
       "4     68.0            58.0          51.0     15.0       13.0        5.0   \n",
       "\n",
       "  GKPositioning GKReflexes Release Clause  \n",
       "0          14.0        8.0        €226.5M  \n",
       "1          14.0       11.0        €127.1M  \n",
       "2          15.0       11.0        €228.1M  \n",
       "3          88.0       94.0        €138.6M  \n",
       "4          10.0       13.0        €196.4M  \n",
       "\n",
       "[5 rows x 57 columns]"
      ]
     },
     "execution_count": 5,
     "metadata": {},
     "output_type": "execute_result"
    }
   ],
   "source": [
    "df.head()"
   ]
  },
  {
   "cell_type": "code",
   "execution_count": null,
   "id": "04bf8bf0",
   "metadata": {},
   "outputs": [],
   "source": []
  },
  {
   "cell_type": "markdown",
   "id": "007a89b5",
   "metadata": {},
   "source": [
    "# Web Page"
   ]
  },
  {
   "cell_type": "code",
   "execution_count": 357,
   "id": "cf8a7d3b",
   "metadata": {},
   "outputs": [],
   "source": [
    "# Fix sidebar to the left side\n",
    "SIDEBAR_STYLE = {\n",
    "    \"position\": \"fixed\", \"top\": 0, \"left\": 0, \"bottom\": 0,\n",
    "    \"width\": \"20rem\", \"padding\": \"2rem 1rem\", \"background-color\": \"#f8f9fa\",\n",
    "}\n",
    "\n",
    "# Place main content on the right\n",
    "CONTENT_STYLE = {\n",
    "    \"width\": \"50rem\", \"margin-left\": \"22rem\", \"margin-right\": \"2rem\",\n",
    "    \"padding\": \"2rem 1rem\", \"display\": \"inline-block\"\n",
    "}"
   ]
  },
  {
   "cell_type": "markdown",
   "id": "d924a1d8",
   "metadata": {},
   "source": [
    "sidebar => Selector de País | Equipo | Nombre"
   ]
  },
  {
   "cell_type": "code",
   "execution_count": 358,
   "id": "9c1431bc",
   "metadata": {},
   "outputs": [],
   "source": [
    "external_stylesheets = ['https://codepen.io/chriddyp/pen/bWLwgP.css']\n",
    "app = JupyterDash(__name__, external_stylesheets=[external_stylesheets,dbc.themes.BOOTSTRAP])\n",
    "\n",
    "sidebar = html.Div(\n",
    "    [\n",
    "        html.H3('Seleccionador de Jugador'),\n",
    "        html.Hr(),\n",
    "        dbc.Row([html.Div(\"Pais\")]),\n",
    "        dbc.Row([dcc.Dropdown(\n",
    "                        id='selector_pais',\n",
    "                        options=list(df[\"Nationality\"].unique()),\n",
    "                        multi=True, value=[],\n",
    "                        className='postselector'\n",
    "                        )]),\n",
    "        dbc.Row([dbc.Col(html.Div(\"Equipo\"))]),\n",
    "            dbc.Row(\n",
    "                [dcc.Dropdown(\n",
    "                            id='selector_equipo',\n",
    "                            multi=True, value=[]\n",
    "                       )]\n",
    "            ),\n",
    "        dbc.Row([html.Div(\"Nombre\")]),\n",
    "            dbc.Row(\n",
    "                [dcc.Dropdown(\n",
    "                            id='selector_nombre',\n",
    "                            multi=True, value=[],\n",
    "                        )]\n",
    "            ),\n",
    "    ],\n",
    "    style=SIDEBAR_STYLE # Include style to fix position\n",
    ")"
   ]
  },
  {
   "cell_type": "markdown",
   "id": "932d99ac",
   "metadata": {},
   "source": [
    "Contenido=>\n",
    "\n",
    "Photo    Pais\n",
    "         Media.        Arañaplot\n",
    "\n",
    "\n",
    "Datos Importantes"
   ]
  },
  {
   "cell_type": "code",
   "execution_count": 359,
   "id": "debb989b",
   "metadata": {},
   "outputs": [],
   "source": [
    "content = html.Div(children=[\n",
    "        dbc.Row([dbc.Col(html.Img(id=\"imagen_jugador\"))], justify=\"center\",style={\"margin-left\": \"20rem\",\"justify-content\":\"center\"}),\n",
    "        dbc.Row([ \n",
    "            dbc.Col([html.Img(id=\"flag\")],style={\"margin-left\": \"21.5rem\",\"justify-content\":\"center\"}),\n",
    "            ]),\n",
    "        dbc.Row([dbc.Col([html.P(id= \"media\",children=\"Media : 97\")],style={\"margin-left\": \"20.5rem\",\"justify-content\":\"center\"})]),\n",
    "        dbc.Row([dcc.Graph(id=\"stats\")]),\n",
    "        dbc.Row([dbc.Table(id=\"tabla_datos\",bordered=True)])\n",
    "    \n",
    "],\n",
    "style=CONTENT_STYLE) # Include style to fix position\n",
    "# Define the app\n",
    "app.layout = html.Div([sidebar, content])"
   ]
  },
  {
   "cell_type": "code",
   "execution_count": 360,
   "id": "70a05b29",
   "metadata": {},
   "outputs": [],
   "source": [
    "@app.callback( \n",
    "    [Output('selector_equipo','options'),Output('selector_nombre','options')],\n",
    "    [Input('selector_pais', 'value'),Input('selector_equipo','value'),Input('selector_nombre','value')]\n",
    ")\n",
    "def update_figure(selector_pais,selector_equipo,selector_nombre):\n",
    "    equipo = list(df[df['Nationality'].isin(selector_pais)]['Club'].unique())\n",
    "    nombre = list(df[df['Nationality'].isin(selector_pais) & df['Club'].isin(df[\"Club\"] if len(selector_equipo)==0  else selector_equipo)]['Name'].unique())\n",
    "    return equipo, nombre\n",
    "\n",
    "@app.callback(\n",
    "    [Output('imagen_jugador','src'),Output('flag','src'),Output('media','children'),Output(\"tabla_datos\",\"children\"),Output(\"stats\",\"figure\")],\n",
    "    [Input('selector_nombre','value')]\n",
    ")\n",
    "def sacar_player(nombre):\n",
    "    if len(nombre)!= 0:\n",
    "        jugador = df.loc[df[\"Name\"].isin(nombre)]\n",
    "        src = \"https://cdn.sofifa.net/players/\"+str(list(jugador[\"ID\"])[0])[0:3]+\"/\"+str(list(jugador[\"ID\"])[0])[3:]+\"/23_60.png\"\n",
    "        children = \"Media : \"+ str(list(jugador[\"Overall\"])[0])\n",
    "        urls = df_urls.loc[(df_urls[\"Nationality\"].isin(jugador[\"Nationality\"])) & (df_urls[\"Club\"].isin(jugador[\"Club\"]))]\n",
    "        flag = list(urls[\"Flag\"])[0]\n",
    "        row1 = html.Tr([html.Td(jugador[\"Name\"]), html.Td(jugador[\"Nationality\"]),html.Td(jugador[\"Age\"]),html.Td(jugador[\"Overall\"]),html.Td(jugador[\"Value\"])])\n",
    "        df_stats = pd.DataFrame(dict(r=[list(jugador[\"Crossing\"])[0],list(jugador[\"Finishing\"])[0],list(jugador[\"ShortPassing\"])[0], list(jugador[\"HeadingAccuracy\"])[0], list(jugador[\"Volleys\"])[0], list(jugador[\"SprintSpeed\"])[0], list(jugador[\"Acceleration\"])[0],list(jugador[\"Stamina\"])[0]],theta=['Crossing','Finishing','HeadingAccuracy','ShortPassing', 'Volleys',\"SprintSpeed\",\"Acceleration\",\"Stamina\"]))\n",
    "        figure = px.line_polar(df_stats, r='r', theta='theta', line_close=True)\n",
    "    else:\n",
    "        src= \"https://cdn.sofifa.net/players/209/658/23_60.png\"\n",
    "        children = \"Media: 99\"\n",
    "        flag = \"https://cdn.sofifa.net/flags/de.png\"\n",
    "        row1 = html.Tr([html.Td(\"Esperando...\"), html.Td(\"Esperando...\"),html.Td(\"Esperando...\"),html.Td(\"Esperando...\"),html.Td(\"Esperando...\")])\n",
    "        df_stats = pd.DataFrame(dict(r=[1, 2, 3, 4, 5, 6, 7,8],theta=['Crossing','Finishing','HeadingAccuracy','ShortPassing', 'Volleys',\"SprintSpeed\",\"Acceleration\",\"Stamina\"]))\n",
    "        figure = px.line_polar(df_stats, r='r', theta='theta', line_close=True)\n",
    "        \n",
    "    table_header = [html.Thead(html.Tr([html.Th(\"Name\"), html.Th(\"Nationality\"),html.Th(\"Age\"),html.Th(\"Overall\"),html.Th(\"Value\")]))]\n",
    "    \n",
    "    table_body = [html.Tbody([row1])]\n",
    "    \n",
    "\n",
    "    \n",
    "    \n",
    "    return src,flag,children,table_header+table_body, figure"
   ]
  },
  {
   "cell_type": "code",
   "execution_count": 361,
   "id": "1f9f0643",
   "metadata": {},
   "outputs": [
    {
     "name": "stdout",
     "output_type": "stream",
     "text": [
      "Dash app running on http://localhost:8050/\n"
     ]
    }
   ],
   "source": [
    "app.run_server(mode='external')"
   ]
  },
  {
   "cell_type": "code",
   "execution_count": 19,
   "id": "c59feda8",
   "metadata": {},
   "outputs": [
    {
     "data": {
      "text/plain": [
       "0        False\n",
       "1        False\n",
       "2        False\n",
       "3         True\n",
       "4        False\n",
       "         ...  \n",
       "17655    False\n",
       "17656    False\n",
       "17657    False\n",
       "17658    False\n",
       "17659    False\n",
       "Name: Nationality, Length: 17660, dtype: bool"
      ]
     },
     "execution_count": 19,
     "metadata": {},
     "output_type": "execute_result"
    }
   ],
   "source": [
    "jugador = df.loc[df[\"Name\"].isin([\"T. Courtois\"])]\n",
    "df_urls.loc[(df_urls[\"Nationality\"].isin(jugador[\"Nationality\"])) & (df_urls[\"Club\"].isin(jugador[\"Club\"]))]\n",
    "(df_urls[\"Nationality\"].isin(jugador[\"Nationality\"])) & (df_urls[\"Club\"].isin)"
   ]
  }
 ],
 "metadata": {
  "kernelspec": {
   "display_name": "Python 3",
   "language": "python",
   "name": "python3"
  },
  "language_info": {
   "codemirror_mode": {
    "name": "ipython",
    "version": 3
   },
   "file_extension": ".py",
   "mimetype": "text/x-python",
   "name": "python",
   "nbconvert_exporter": "python",
   "pygments_lexer": "ipython3",
   "version": "3.8.3"
  },
  "vscode": {
   "interpreter": {
    "hash": "40d3a090f54c6569ab1632332b64b2c03c39dcf918b08424e98f38b5ae0af88f"
   }
  }
 },
 "nbformat": 4,
 "nbformat_minor": 5
}
